{
 "cells": [
  {
   "cell_type": "code",
   "execution_count": 1,
   "id": "51751fbc",
   "metadata": {},
   "outputs": [],
   "source": [
    "import pandas as pd\n",
    "import os\n",
    "\n",
    "class SingleAction():\n",
    "    '''\n",
    "    Создает класс с описанием какого-то конктретного действия и его параметрами\n",
    "    '''\n",
    "    # создает либо пустое действие с новым именем, либо загружает уже существуюее с известным именем\n",
    "    def __init__(self, new_action_name: str = None, exist_action_name: str = None) -> None:\n",
    "        if exist_action_name == None:\n",
    "            self.action_name = str(new_action_name)\n",
    "        else:\n",
    "            self.read_from_csv(str(exist_action_name))\n",
    "\n",
    "    # изменяет имя для действия\n",
    "    def change_name(self, new_name: str) -> None:\n",
    "        self.action_name = str(new_name)\n",
    "        self.save_to_csv()\n",
    "\n",
    "    # добавляет описательный параметр для действия \n",
    "    def add_param(self, name: str, value) -> None:\n",
    "        new_param = pd.DataFrame({'Name': [str(name)], 'Value': [value]})\n",
    "        if not hasattr(self, 'param_tabels'):\n",
    "            self.param_tabels = new_param\n",
    "        else:\n",
    "            self.param_tabels = pd.concat([self.param_tabels, new_param], ignore_index=True)\n",
    "        self.save_to_csv()\n",
    "\n",
    "    # удаляет описательный параметр для действия\n",
    "    def del_param(self, index: int) -> None:\n",
    "        self.param_tabels.drop(index, inplace = True)\n",
    "        self.param_tabels.reset_index(drop = True, inplace = True)\n",
    "        self.save_to_csv()\n",
    "\n",
    "    # сохраняет действие в отдельный файл с приставкой \"act\"\n",
    "    def save_to_csv(self) -> None:\n",
    "        path_to_save = os.path.join(os.getcwd(), 'act_' + self.action_name)\n",
    "        self.param_tabels.to_csv(path_to_save, index=False, sep=';')\n",
    "\n",
    "    # считывает таблицу, проверка на считываемость, проверка на корректность внутреннего формата данных\n",
    "    def read_from_csv(self, name: str) -> None:\n",
    "        path_to_find = os.path.join(os.getcwd(), 'act_' + str(name))\n",
    "        if os.path.exists(path_to_find):\n",
    "            try:\n",
    "                self.param_tabels = pd.read_csv(path_to_find, sep = ';')\n",
    "            except ValueError:\n",
    "                print(f'Can not read \\\"{name}\\\" file')\n",
    "            if self.param_tabels.shape[1] > 2:\n",
    "                raise ValueError(f'Action file contain more than 2 collums')\n",
    "            self.action_name = str(name)\n",
    "        else:\n",
    "            raise FileNotFoundError(f'Action \\\"{name}\\\" not found')\n",
    "\n",
    "    # удаляет файл с сохраненным дейтсвием\n",
    "    def del_csv(self, name: str) -> None:\n",
    "        path_to_find = os.path.join(os.getcwd(), 'act_' + str(name))\n",
    "        if os.path.exists(path_to_find):\n",
    "            os.remove(path_to_find)\n",
    "        else:\n",
    "            raise FileNotFoundError(f'Action \\\"{name}\\\" not found')"
   ]
  },
  {
   "cell_type": "code",
   "execution_count": 2,
   "id": "4598d6c0",
   "metadata": {},
   "outputs": [
    {
     "data": {
      "text/plain": [
       "\"a = SingleAction('deposition')\\n\\na.add_param('temp in C', 200)\\na.add_param('press in mBar', 1e-2)\\na.add_param('pres', 1e2)\\na.add_param('sdjkbf', 'lkasjvb')\\na.param_tabels\""
      ]
     },
     "execution_count": 2,
     "metadata": {},
     "output_type": "execute_result"
    }
   ],
   "source": [
    "'''a = SingleAction('deposition')\n",
    "\n",
    "a.add_param('temp in C', 200)\n",
    "a.add_param('press in mBar', 1e-2)\n",
    "a.add_param('pres', 1e2)\n",
    "a.add_param('sdjkbf', 'lkasjvb')\n",
    "a.param_tabels'''"
   ]
  },
  {
   "cell_type": "code",
   "execution_count": 3,
   "id": "fe84251c",
   "metadata": {},
   "outputs": [],
   "source": [
    "a = SingleAction(exist_action_name='deposition_copy')\n",
    "\n",
    "\n",
    "a.change_name('bla_bla')\n",
    "#a.del_csv('bla_bla')"
   ]
  },
  {
   "cell_type": "code",
   "execution_count": 4,
   "id": "e2a7b13a",
   "metadata": {},
   "outputs": [],
   "source": [
    "a.del_csv('bla_bla')"
   ]
  }
 ],
 "metadata": {
  "kernelspec": {
   "display_name": "Python 3",
   "language": "python",
   "name": "python3"
  },
  "language_info": {
   "codemirror_mode": {
    "name": "ipython",
    "version": 3
   },
   "file_extension": ".py",
   "mimetype": "text/x-python",
   "name": "python",
   "nbconvert_exporter": "python",
   "pygments_lexer": "ipython3",
   "version": "3.11.2"
  }
 },
 "nbformat": 4,
 "nbformat_minor": 5
}
